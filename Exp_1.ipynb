{
  "nbformat": 4,
  "nbformat_minor": 0,
  "metadata": {
    "colab": {
      "provenance": [],
      "authorship_tag": "ABX9TyOdrYUYHVJDKCTKuygnmMZX",
      "include_colab_link": true
    },
    "kernelspec": {
      "name": "python3",
      "display_name": "Python 3"
    },
    "language_info": {
      "name": "python"
    }
  },
  "cells": [
    {
      "cell_type": "markdown",
      "metadata": {
        "id": "view-in-github",
        "colab_type": "text"
      },
      "source": [
        "<a href=\"https://colab.research.google.com/github/21PA1A5474/Deep-Learning/blob/main/Exp_1.ipynb\" target=\"_parent\"><img src=\"https://colab.research.google.com/assets/colab-badge.svg\" alt=\"Open In Colab\"/></a>"
      ]
    },
    {
      "cell_type": "code",
      "execution_count": null,
      "metadata": {
        "id": "F4uKsgDLu2a5"
      },
      "outputs": [],
      "source": [
        "import numpy as np\n",
        "np.random. seed (42)\n",
        "def stepFunction(t):\n",
        "  if t >= 0 :\n",
        "    return 1\n",
        "  return 0\n",
        "\n",
        "def prediction (x,W,b):\n",
        "\n",
        "  return stepFunction((np.matmul(x,W)+b)[0])\n",
        "def perceptronStep(X, y, W, b, learn_rate = 0.01):\n",
        "\n",
        "\n",
        "  for i in range(len(X)):\n",
        "\n",
        "    yhat = prediction(X([i],W,b))\n",
        "\n",
        "    if y[i]-yhat == 1:\n",
        "      W[0] += X[i][0]*learn_rate\n",
        "      W[1] += X[i][1]*learn_rate\n",
        "      b -= learn_rate\n",
        "\n",
        "    elif y[i]-yhat == -1:\n",
        "      W[0] -= X[i][0]*learn_rate\n",
        "      W[1] -= X[i][1]*learn_rate\n",
        "      b -= learn_rate\n",
        "  return W, b\n",
        "def trainPerceptronAlgorithm(X, y, learn_rate = 0.01, num_epochs = 25):\n",
        "\n",
        "  x_min, x_max = min(X.T[0]), max(X.T[0])\n",
        "\n",
        "  y_min, y_max = min(X.T[1]), max(X.T[1])\n",
        "\n",
        "  W = np.array(np.random.rand(2,1))\n",
        "  b = np.random.rand(1)[0] + x_max\n",
        "  boundary_lines = []\n",
        "  for i in range(num_epochs):\n",
        "    W, b = perceptronStep( X,y, W, b, learn_rate)\n",
        "    boundary_lines.append ((-W[0]/W[1], -b/W[1]))\n",
        "\n",
        "  return boundary_lines"
      ]
    }
  ]
}